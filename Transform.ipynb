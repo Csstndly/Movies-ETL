{
 "cells": [
  {
   "cell_type": "code",
   "execution_count": null,
   "id": "b3e854d0",
   "metadata": {},
   "outputs": [],
   "source": [
    "## Inspect Plan  Excute"
   ]
  },
  {
   "cell_type": "code",
   "execution_count": null,
   "id": "ae9eb72f",
   "metadata": {},
   "outputs": [],
   "source": [
    "# Bad data comes in 3 states\n",
    "    #* beyond repair\n",
    "    #* badly damaged\n",
    "    #* wrong form"
   ]
  },
  {
   "cell_type": "code",
   "execution_count": null,
   "id": "ecf1d0be",
   "metadata": {},
   "outputs": [],
   "source": [
    "# Data beyond repair could be data that has been overwritten or has suffered \n",
    "# severe data corruption during storage or transfer. Worst case would be to have \n",
    "#data that's lost and unrecoverable. All that can be done is deleting and move on\n",
    "\n",
    "\n",
    "\n",
    "# Data that is badly damaged may have data that can be recovered but will take and effort. This can\n",
    "# be garbled data missing lots of values or existing in mulitple columns. \n",
    "    \n",
    "    #Strategies\n",
    "        #* Fill in missing data by subbing from another source, interpolating or extrapolating \n",
    "        #* Standardizing units of measures\n",
    "        #* Consolidating data from multiple columns\n",
    "\n",
    "        \n",
    "# Data in the wrong form is typically fixable. Like numeric dara stored as strings, data needing\n",
    "# to be split in multiple columns, too detailed\n",
    "    #Strategies\n",
    "        #* Reshape the data\n",
    "        #* Convert data types\n",
    "        #*Parse text data to correct format\n",
    "        #*Split columns\n",
    "\n",
    "    "
   ]
  },
  {
   "cell_type": "code",
   "execution_count": null,
   "id": "b63aa825",
   "metadata": {},
   "outputs": [],
   "source": []
  },
  {
   "cell_type": "code",
   "execution_count": null,
   "id": "2c2f3d46",
   "metadata": {},
   "outputs": [],
   "source": []
  },
  {
   "cell_type": "code",
   "execution_count": null,
   "id": "6a160678",
   "metadata": {},
   "outputs": [],
   "source": []
  }
 ],
 "metadata": {
  "kernelspec": {
   "display_name": "Python 3",
   "language": "python",
   "name": "python3"
  },
  "language_info": {
   "codemirror_mode": {
    "name": "ipython",
    "version": 3
   },
   "file_extension": ".py",
   "mimetype": "text/x-python",
   "name": "python",
   "nbconvert_exporter": "python",
   "pygments_lexer": "ipython3",
   "version": "3.7.10"
  }
 },
 "nbformat": 4,
 "nbformat_minor": 5
}
